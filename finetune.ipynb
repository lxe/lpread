{
 "cells": [
  {
   "cell_type": "code",
   "execution_count": 3,
   "id": "1debd2f2-3087-4edf-b8a5-8c951f04c9b0",
   "metadata": {},
   "outputs": [
    {
     "name": "stdout",
     "output_type": "stream",
     "text": [
      "Requirement already satisfied: pip in /home/lxe/miniconda3/envs/lpread/lib/python3.10/site-packages (23.3.1)\n",
      "Note: you may need to restart the kernel to use updated packages.\n",
      "Requirement already satisfied: torch in /home/lxe/miniconda3/envs/lpread/lib/python3.10/site-packages (2.1.0+cu118)\n",
      "Requirement already satisfied: torchvision in /home/lxe/miniconda3/envs/lpread/lib/python3.10/site-packages (0.16.0+cu118)\n",
      "Requirement already satisfied: torchaudio in /home/lxe/miniconda3/envs/lpread/lib/python3.10/site-packages (2.1.0+cu118)\n",
      "Requirement already satisfied: filelock in /home/lxe/miniconda3/envs/lpread/lib/python3.10/site-packages (from torch) (3.9.0)\n",
      "Requirement already satisfied: typing-extensions in /home/lxe/miniconda3/envs/lpread/lib/python3.10/site-packages (from torch) (4.4.0)\n",
      "Requirement already satisfied: sympy in /home/lxe/miniconda3/envs/lpread/lib/python3.10/site-packages (from torch) (1.12)\n",
      "Requirement already satisfied: networkx in /home/lxe/miniconda3/envs/lpread/lib/python3.10/site-packages (from torch) (3.0)\n",
      "Requirement already satisfied: jinja2 in /home/lxe/miniconda3/envs/lpread/lib/python3.10/site-packages (from torch) (3.1.2)\n",
      "Requirement already satisfied: fsspec in /home/lxe/miniconda3/envs/lpread/lib/python3.10/site-packages (from torch) (2023.4.0)\n",
      "Requirement already satisfied: triton==2.1.0 in /home/lxe/miniconda3/envs/lpread/lib/python3.10/site-packages (from torch) (2.1.0)\n",
      "Requirement already satisfied: numpy in /home/lxe/miniconda3/envs/lpread/lib/python3.10/site-packages (from torchvision) (1.24.1)\n",
      "Requirement already satisfied: requests in /home/lxe/miniconda3/envs/lpread/lib/python3.10/site-packages (from torchvision) (2.31.0)\n",
      "Requirement already satisfied: pillow!=8.3.*,>=5.3.0 in /home/lxe/miniconda3/envs/lpread/lib/python3.10/site-packages (from torchvision) (10.1.0)\n",
      "Requirement already satisfied: MarkupSafe>=2.0 in /home/lxe/miniconda3/envs/lpread/lib/python3.10/site-packages (from jinja2->torch) (2.1.2)\n",
      "Requirement already satisfied: charset-normalizer<4,>=2 in /home/lxe/miniconda3/envs/lpread/lib/python3.10/site-packages (from requests->torchvision) (2.1.1)\n",
      "Requirement already satisfied: idna<4,>=2.5 in /home/lxe/miniconda3/envs/lpread/lib/python3.10/site-packages (from requests->torchvision) (2.10)\n",
      "Requirement already satisfied: urllib3<3,>=1.21.1 in /home/lxe/miniconda3/envs/lpread/lib/python3.10/site-packages (from requests->torchvision) (1.26.13)\n",
      "Requirement already satisfied: certifi>=2017.4.17 in /home/lxe/miniconda3/envs/lpread/lib/python3.10/site-packages (from requests->torchvision) (2023.7.22)\n",
      "Requirement already satisfied: mpmath>=0.19 in /home/lxe/miniconda3/envs/lpread/lib/python3.10/site-packages (from sympy->torch) (1.3.0)\n",
      "Note: you may need to restart the kernel to use updated packages.\n",
      "Note: you may need to restart the kernel to use updated packages.\n",
      "Collecting sklearn\n",
      "  Downloading sklearn-0.0.post10.tar.gz (3.6 kB)\n",
      "  Preparing metadata (setup.py) ... \u001b[?25ldone\n",
      "\u001b[?25hBuilding wheels for collected packages: sklearn\n",
      "  Building wheel for sklearn (setup.py) ... \u001b[?25ldone\n",
      "\u001b[?25h  Created wheel for sklearn: filename=sklearn-0.0.post10-py3-none-any.whl size=2959 sha256=bc405c4cfd5cb2feb81ddde2e39458c0c68797968f1c7f9d6e1582ea2fbb53fa\n",
      "  Stored in directory: /home/lxe/.cache/pip/wheels/5b/f6/92/0173054cc528db7ffe7b0c7652a96c3102aab156a6da960387\n",
      "Successfully built sklearn\n",
      "Installing collected packages: sklearn\n",
      "Successfully installed sklearn-0.0.post10\n",
      "Note: you may need to restart the kernel to use updated packages.\n"
     ]
    }
   ],
   "source": [
    "%pip install --upgrade pip\n",
    "%pip install torch torchvision torchaudio\n",
    "%pip install -q datasets jiwer\n",
    "%pip install sklearn"
   ]
  },
  {
   "cell_type": "code",
   "execution_count": 2,
   "id": "2b66dfef-7f2e-4e91-bb1a-308586af9afb",
   "metadata": {},
   "outputs": [
    {
     "name": "stderr",
     "output_type": "stream",
     "text": [
      "/home/lxe/miniconda3/envs/lpread/lib/python3.10/site-packages/tqdm/auto.py:21: TqdmWarning: IProgress not found. Please update jupyter and ipywidgets. See https://ipywidgets.readthedocs.io/en/stable/user_install.html\n",
      "  from .autonotebook import tqdm as notebook_tqdm\n"
     ]
    }
   ],
   "source": [
    "import os, sys, itertools\n",
    "os.environ['TOKENIZERS_PARALLELISM']='false'\n",
    "\n",
    "import pandas as pd\n",
    "from sklearn.model_selection import train_test_split\n",
    "\n",
    "from PIL import Image\n",
    "\n",
    "import torch\n",
    "from torch.utils.data import Dataset\n",
    "\n",
    "import datasets\n",
    "from datasets import load_dataset\n",
    "\n",
    "import transformers\n",
    "from transformers import Seq2SeqTrainingArguments, Seq2SeqTrainer\n",
    "from transformers import VisionEncoderDecoderModel, TrOCRProcessor, default_data_collator\n",
    "\n",
    "import evaluate"
   ]
  },
  {
   "cell_type": "code",
   "execution_count": 3,
   "id": "6bbd42e1-42e9-4f35-af81-ebfab814e577",
   "metadata": {},
   "outputs": [
    {
     "name": "stdout",
     "output_type": "stream",
     "text": [
      "        Python: 3.10.1\n",
      "        Pandas: 2.1.2\n",
      "      Datasets: 2.14.6\n",
      "  Transformers: 4.35.0\n",
      "         Torch: 2.1.0+cu118\n"
     ]
    }
   ],
   "source": [
    "print(\"Python:\".rjust(15), sys.version[0:6])\n",
    "print(\"Pandas:\".rjust(15), pd.__version__)\n",
    "print(\"Datasets:\".rjust(15), datasets.__version__)\n",
    "print(\"Transformers:\".rjust(15), transformers.__version__)\n",
    "print(\"Torch:\".rjust(15), torch.__version__)"
   ]
  },
  {
   "cell_type": "code",
   "execution_count": 4,
   "id": "b66ed2a8-2387-4752-aef4-96fa60f277ff",
   "metadata": {},
   "outputs": [
    {
     "name": "stdout",
     "output_type": "stream",
     "text": [
      "<class 'pandas.core.frame.DataFrame'>\n",
      "RangeIndex: 83 entries, 0 to 82\n",
      "Data columns (total 2 columns):\n",
      " #   Column  Non-Null Count  Dtype \n",
      "---  ------  --------------  ----- \n",
      " 0   image   83 non-null     object\n",
      " 1   label   83 non-null     object\n",
      "dtypes: object(2)\n",
      "memory usage: 1.4+ KB\n",
      "None\n",
      "<class 'pandas.core.frame.DataFrame'>\n",
      "RangeIndex: 21 entries, 0 to 20\n",
      "Data columns (total 2 columns):\n",
      " #   Column  Non-Null Count  Dtype \n",
      "---  ------  --------------  ----- \n",
      " 0   image   21 non-null     object\n",
      " 1   label   21 non-null     object\n",
      "dtypes: object(2)\n",
      "memory usage: 464.0+ bytes\n",
      "None\n"
     ]
    }
   ],
   "source": [
    "path = \"plates.csv\"\n",
    "\n",
    "dataset = pd.read_csv(path)\n",
    "dataset.rename(columns={\"images\" : \"file_name\", \"labels\" : \"text\"}, inplace=True)\n",
    "\n",
    "# train/test split\n",
    "train_dataset, test_dataset = train_test_split(dataset, train_size=0.80, random_state=42)\n",
    "\n",
    "train_dataset.reset_index(drop=True, inplace=True)\n",
    "test_dataset.reset_index(drop=True, inplace=True)\n",
    "\n",
    "print(train_dataset.info())\n",
    "print(test_dataset.info())"
   ]
  },
  {
   "cell_type": "code",
   "execution_count": 5,
   "id": "2c1d3e8d-0f60-4c47-9a0e-ce83bc4d16b8",
   "metadata": {},
   "outputs": [
    {
     "data": {
      "text/html": [
       "<div>\n",
       "<style scoped>\n",
       "    .dataframe tbody tr th:only-of-type {\n",
       "        vertical-align: middle;\n",
       "    }\n",
       "\n",
       "    .dataframe tbody tr th {\n",
       "        vertical-align: top;\n",
       "    }\n",
       "\n",
       "    .dataframe thead th {\n",
       "        text-align: right;\n",
       "    }\n",
       "</style>\n",
       "<table border=\"1\" class=\"dataframe\">\n",
       "  <thead>\n",
       "    <tr style=\"text-align: right;\">\n",
       "      <th></th>\n",
       "      <th>image</th>\n",
       "      <th>label</th>\n",
       "    </tr>\n",
       "  </thead>\n",
       "  <tbody>\n",
       "    <tr>\n",
       "      <th>0</th>\n",
       "      <td>plates/191_0.jpg</td>\n",
       "      <td>9GLW121</td>\n",
       "    </tr>\n",
       "    <tr>\n",
       "      <th>1</th>\n",
       "      <td>plates/57_0.jpg</td>\n",
       "      <td>KG004</td>\n",
       "    </tr>\n",
       "    <tr>\n",
       "      <th>2</th>\n",
       "      <td>plates/265_0.jpg</td>\n",
       "      <td>6AKK175</td>\n",
       "    </tr>\n",
       "    <tr>\n",
       "      <th>3</th>\n",
       "      <td>plates/174_0.jpg</td>\n",
       "      <td>6SRW765</td>\n",
       "    </tr>\n",
       "    <tr>\n",
       "      <th>4</th>\n",
       "      <td>plates/249_0.jpg</td>\n",
       "      <td>9FIR383</td>\n",
       "    </tr>\n",
       "    <tr>\n",
       "      <th>5</th>\n",
       "      <td>plates/36_0.jpg</td>\n",
       "      <td>6CRR781</td>\n",
       "    </tr>\n",
       "    <tr>\n",
       "      <th>6</th>\n",
       "      <td>plates/172_0.jpg</td>\n",
       "      <td>6SRW765</td>\n",
       "    </tr>\n",
       "    <tr>\n",
       "      <th>7</th>\n",
       "      <td>plates/121_0.jpg</td>\n",
       "      <td>7SHG843</td>\n",
       "    </tr>\n",
       "    <tr>\n",
       "      <th>8</th>\n",
       "      <td>plates/27_0.jpg</td>\n",
       "      <td>7HGH819</td>\n",
       "    </tr>\n",
       "    <tr>\n",
       "      <th>9</th>\n",
       "      <td>plates/314_0.jpg</td>\n",
       "      <td>6FXK819</td>\n",
       "    </tr>\n",
       "    <tr>\n",
       "      <th>10</th>\n",
       "      <td>plates/32_0.jpg</td>\n",
       "      <td>6CRR781</td>\n",
       "    </tr>\n",
       "    <tr>\n",
       "      <th>11</th>\n",
       "      <td>plates/25_0.jpg</td>\n",
       "      <td>7HGH819</td>\n",
       "    </tr>\n",
       "  </tbody>\n",
       "</table>\n",
       "</div>"
      ],
      "text/plain": [
       "               image    label\n",
       "0   plates/191_0.jpg  9GLW121\n",
       "1    plates/57_0.jpg    KG004\n",
       "2   plates/265_0.jpg  6AKK175\n",
       "3   plates/174_0.jpg  6SRW765\n",
       "4   plates/249_0.jpg  9FIR383\n",
       "5    plates/36_0.jpg  6CRR781\n",
       "6   plates/172_0.jpg  6SRW765\n",
       "7   plates/121_0.jpg  7SHG843\n",
       "8    plates/27_0.jpg  7HGH819\n",
       "9   plates/314_0.jpg  6FXK819\n",
       "10   plates/32_0.jpg  6CRR781\n",
       "11   plates/25_0.jpg  7HGH819"
      ]
     },
     "execution_count": 5,
     "metadata": {},
     "output_type": "execute_result"
    }
   ],
   "source": [
    "train_dataset.head(12)"
   ]
  },
  {
   "cell_type": "code",
   "execution_count": 6,
   "id": "25b7df27-130d-4918-a367-4b017f0ec59b",
   "metadata": {},
   "outputs": [],
   "source": [
    "class License_Plates_OCR_Dataset(Dataset):\n",
    "    \n",
    "    def __init__(self, root_dir, df, processor, max_target_length=128):\n",
    "        self.root_dir = root_dir\n",
    "        self.df = df\n",
    "        self.processor = processor\n",
    "        self.max_target_length = max_target_length\n",
    "    \n",
    "    def __len__(self):\n",
    "        return len(self.df)\n",
    "\n",
    "    def __getitem__(self, idx):\n",
    "        # get file name + text\n",
    "        file_name = self.df['file_name'][idx]\n",
    "        text = self.df['text'][idx]\n",
    "        # prepare image (i.e. resize + normalize)\n",
    "        image = Image.open(self.root_dir + file_name).convert(\"RGB\")\n",
    "        pixel_values = self.processor(image, return_tensors=\"pt\").pixel_values\n",
    "        # add labels (input_ids) by encoding the text\n",
    "        labels = self.processor.tokenizer(text, padding=\"max_length\", max_length=self.max_target_length).input_ids\n",
    "        # important: make sure that PAD tokens are ignored by the loss function\n",
    "        labels = [label if label != self.processor.tokenizer.pad_token_id \n",
    "                  else -100 for label in labels]\n",
    "        \n",
    "        encoding = {\"pixel_values\" : pixel_values.squeeze(), \"labels\" : torch.tensor(labels)}\n",
    "        return encoding"
   ]
  },
  {
   "cell_type": "code",
   "execution_count": 7,
   "id": "dd571dfc-4fe9-4f68-ad84-03cf88bb2a6a",
   "metadata": {},
   "outputs": [],
   "source": [
    "MODEL_CKPT = \"microsoft/trocr-base-printed\"\n",
    "MODEL_NAME =  MODEL_CKPT.split(\"/\")[-1] + \"_license_plates_ocr\"\n",
    "NUM_OF_EPOCHS = 2"
   ]
  },
  {
   "cell_type": "code",
   "execution_count": 8,
   "id": "10512626-d1b7-48e1-8f92-02f2eed8e9b1",
   "metadata": {},
   "outputs": [
    {
     "name": "stderr",
     "output_type": "stream",
     "text": [
      "Could not find image processor class in the image processor config or the model config. Loading based on pattern matching with the model's feature extractor configuration.\n"
     ]
    },
    {
     "ename": "TypeError",
     "evalue": "License_Plates_OCR_Dataset.__init__() got an unexpected keyword argument 'rocessor'",
     "output_type": "error",
     "traceback": [
      "\u001b[0;31m---------------------------------------------------------------------------\u001b[0m",
      "\u001b[0;31mTypeError\u001b[0m                                 Traceback (most recent call last)",
      "Cell \u001b[0;32mIn[8], line 6\u001b[0m\n\u001b[1;32m      3\u001b[0m cwd \u001b[38;5;241m=\u001b[39m os\u001b[38;5;241m.\u001b[39mgetcwd()\n\u001b[1;32m      5\u001b[0m train_ds \u001b[38;5;241m=\u001b[39m License_Plates_OCR_Dataset(root_dir\u001b[38;5;241m=\u001b[39mcwd, df\u001b[38;5;241m=\u001b[39mtrain_dataset, processor\u001b[38;5;241m=\u001b[39mprocessor)\n\u001b[0;32m----> 6\u001b[0m test_ds \u001b[38;5;241m=\u001b[39m \u001b[43mLicense_Plates_OCR_Dataset\u001b[49m\u001b[43m(\u001b[49m\u001b[43mroot_dir\u001b[49m\u001b[38;5;241;43m=\u001b[39;49m\u001b[43mcwd\u001b[49m\u001b[43m,\u001b[49m\u001b[43m \u001b[49m\u001b[43mdf\u001b[49m\u001b[38;5;241;43m=\u001b[39;49m\u001b[43mtest_dataset\u001b[49m\u001b[43m,\u001b[49m\u001b[43m \u001b[49m\u001b[43mrocessor\u001b[49m\u001b[38;5;241;43m=\u001b[39;49m\u001b[43mprocessor\u001b[49m\u001b[43m)\u001b[49m\n",
      "\u001b[0;31mTypeError\u001b[0m: License_Plates_OCR_Dataset.__init__() got an unexpected keyword argument 'rocessor'"
     ]
    }
   ],
   "source": [
    "processor = TrOCRProcessor.from_pretrained(MODEL_CKPT)\n",
    "\n",
    "cwd = os.getcwd()\n",
    "\n",
    "train_ds = License_Plates_OCR_Dataset(root_dir=cwd, df=train_dataset, processor=processor)\n",
    "test_ds = License_Plates_OCR_Dataset(root_dir=cwd, df=test_dataset, processor=processor)"
   ]
  },
  {
   "cell_type": "code",
   "execution_count": null,
   "id": "0159ddf9-745d-4fd4-84ef-dfc4db76fb37",
   "metadata": {},
   "outputs": [],
   "source": []
  }
 ],
 "metadata": {
  "kernelspec": {
   "display_name": "Python 3 (ipykernel)",
   "language": "python",
   "name": "python3"
  },
  "language_info": {
   "codemirror_mode": {
    "name": "ipython",
    "version": 3
   },
   "file_extension": ".py",
   "mimetype": "text/x-python",
   "name": "python",
   "nbconvert_exporter": "python",
   "pygments_lexer": "ipython3",
   "version": "3.10.13"
  }
 },
 "nbformat": 4,
 "nbformat_minor": 5
}
